{
 "cells": [
  {
   "cell_type": "markdown",
   "metadata": {},
   "source": [
    "Now we want to enhance the `get_bow_from_docs` function so that it will work with HTML webpages. In HTML, there are a lot of messy codes such as HTML tags, Javascripts, [unicodes](https://www.w3schools.com/charsets/ref_utf_misc_symbols.asp) that will mess up your bag of words. We need to clean up those junk before generating BoW.\n",
    "\n",
    "Next, what you will do is to define several new functions each of which is specialized to clean up the HTML codes in one aspect. For instance, you can have a `strip_html_tags` function to remove all HTML tags, a `remove_punctuation` function to remove all punctuation, a `to_lower_case` function to convert string to lowercase, and a `remove_unicode` function to remove all unicodes.\n",
    "\n",
    "Then in your `get_bow_from_doc` function, you will call each of those functions you created to clean up the HTML before you generate the corpus.\n",
    "\n",
    "Note: Please use Python string operations and regular expression only in this lab. Do not use extra libraries such as `beautifulsoup` because otherwise you loose the purpose of practicing."
   ]
  },
  {
   "cell_type": "code",
   "execution_count": 1,
   "metadata": {},
   "outputs": [],
   "source": [
    "import re"
   ]
  },
  {
   "cell_type": "code",
   "execution_count": 5,
   "metadata": {},
   "outputs": [],
   "source": [
    "# Define your string handling functions below\n",
    "# Minimal 3 functions\n",
    "def create_corpus(docs):\n",
    "    corpus = [open(i).read() for i in docs]\n",
    "    return corpus\n",
    "    \n",
    "def strip_html_tags(x):\n",
    "    x = [re.sub(r'<.*?', '', i) for i in x]\n",
    "    x = [re.sub(r'.*?>', '', i) for i in x]\n",
    "    x = [re.sub(r'\\n', '', i) for i in x]\n",
    "    return x\n",
    "    \n",
    "def remove_punctuation(x):\n",
    "    x = [re.sub('[^A-Za-z]+', ' ', i).strip() for i in x]\n",
    "    return x\n",
    "    \n",
    "def to_lower_case(x):\n",
    "    lower_corpus = [i.lower() for i in x]\n",
    "    return lower_corpus\n",
    "    \n",
    "def remove_unicode(corpus):\n",
    "    return ''.join(i for i in corpus if ord(i)<128)\n",
    "    # Sacado de StackOverflow: https://stackoverflow.com/questions/20078816/replace-non-ascii-characters-with-a-single-space/20078869#20078869\n"
   ]
  },
  {
   "cell_type": "markdown",
   "metadata": {},
   "source": [
    "Next, paste your previously written `get_bow_from_docs` function below. Call your functions above at the appropriate place."
   ]
  },
  {
   "cell_type": "code",
   "execution_count": 6,
   "metadata": {},
   "outputs": [],
   "source": [
    "def get_bow_from_docs(docs, stop_words=[]):\n",
    "    corpus = [open(i).read() for i in docs]\n",
    "    bag_of_words = []\n",
    "    term_freq = []\n",
    "    cleancorpus = to_lower_case(remove_punctuation(strip_html_tags(corpus)))\n",
    "    \n",
    "    for x in cleancorpus:\n",
    "        array = re.split(' ', x)\n",
    "        for y in array:\n",
    "            if y not in bag_of_words:\n",
    "                if y not in stop_words:\n",
    "                    bag_of_words.append(y)\n",
    "    for x in cleancorpus:\n",
    "        list_of_words = ''.join(x).split()\n",
    "        word_freq = [list_of_words.count(z) for z in bag_of_words]\n",
    "        term_freq.append(word_freq)  \n",
    "    \n",
    "    return {\n",
    "        \"bag_of_words\": bag_of_words,\n",
    "        \"term_freq\": term_freq\n",
    "    }\n",
    "    "
   ]
  },
  {
   "cell_type": "markdown",
   "metadata": {},
   "source": [
    "Next, read the content from the three HTML webpages in the `your-codes` directory to test your function."
   ]
  },
  {
   "cell_type": "code",
   "execution_count": 7,
   "metadata": {},
   "outputs": [
    {
     "name": "stdout",
     "output_type": "stream",
     "text": [
      "{'bag_of_words': ['javascript', 'include', 'tag', 'oss', 'maxcdn', 'com', 'libs', 'html', 'shiv', 'js', 'course', 'enables', 'students', 'fledged', 'data', 'analyst', 'weeks', 'develop', 'practical', 'skills', 'useful', 'industry', 'ramp', 'pre', 'work', 'learn', 'intermediate', 'topics', 'analytics', 'using', 'pandas', 'engineering', 'create', 'application', 'real', 'datasets', 'll', 'use', 'python', 'business', 'intelligence', 'bootcamp', 'doing', 'projects', 'combining', 'programming', 'ironhack', 's', 'meant', 'help', 'secure', 'spot', 'context', 'http', 'schema', 'org', 'type', 'time', 'description', 'important', 'skill', 'away', 'ability', 'technology', 'fast', 'moving', 'changing', 'provider', 'localbusiness', 'sameas', 'www', 'en', 'utm', 'source', 'coursereport', 'amp', 'medium', 'schoolpage', 'week', 'immersive', 'catered', 'beginners', 'previous', 'design', 'technical', 'experience', 'taught', 'fundamentals', 'user', 'centered', 'validate', 'ideas', 'research', 'rapid', 'prototyping', 'heuristic', 'evaluation', 'end', 'capstone', 'project', 'new', 'product', 'idea', 'validation', 'launch', 'ux', 'ui', 'ready', 'start', 'career', 'designer', 'freelance', 'turbo', 'charge', 'current', 'professional', 'trajectory', 'meets', 'tuesdays', 'thursdays', 'saturdays', 'additional', 'online', 'coursework', 'period', 'months', 'build', 'stack', 'web', 'applications', 'big', 'emphasis', 'battle', 'tested', 'patterns', 'best', 'practices', 'evaluate', 'problem', 'select', 'optimal', 'solution', 'language', 'framework', 'suited', 'scope', 'addition', 'train', 'think', 'like', 'programmer', 'deconstruct', 'complex', 'problems', 'break', 'smaller', 'modules', 'development', 'good', 'general', 'understanding', 'various', 'languages', 'great', 'understands', 'fundamental', 'structure', 'possesses', 'required', 'var', 'newwindow', 'function', 'openverify', 'url', 'screenx', 'typeof', 'window', 'undefined', 'screenleft', 'screeny', 'screentop', 'outerwidth', 'document', 'body', 'clientwidth', 'outerheight', 'clientheight', 'left', 'parseint', 'features', 'width', 'height', 'review', 'verify', 'tostring', 'params', 'id', 'css', 'cursor', 'progress', 'open', 'login', 'focus', 'return', 'false', 'emailverify', 'post', 'send', 'confirmation', 'success', 'hide', 'confirmed', 'email', 'buffer', 'close', 'instructions', 'modal', 'overlay', 'fadeout', 'duplicate', 'closethismodal', 'confirm', 'scholarship', 'overflow', 'scroll', 'viewscholarships', 'location', 'href', 'center', 'scholarships', 'goal', 'discovering', 'information', 'informing', 'conclusions', 'supporting', 'decision', 'making', 'analysis', 'multiple', 'facets', 'approaches', 'encompassing', 'diverse', 'techniques', 'variety', 'names', 'used', 'different', 'science', 'social', 'domains', 'varieties', 'synonym', 'modeling', 'tables', 'charts', 'communicate', 'key', 'messages', 'contained', 'helpful', 'lookup', 'specific', 'numbers', 'e', 'g', 'bar', 'line', 'explain', 'quantitative', 'stephen', 'described', 'types', 'users', 'attempt', 'understand', 'set', 'associated', 'graphs', 'message', 'customers', 'specifying', 'requirements', 'analysts', 'performing', 'consider', 'process', 'author', 'jonathan', 'koomey', 'recommended', 'series', 'variables', 'individual', 'values', 'cluster', 'mean', 'add', 'layer', 'relationship', 'referred', 'mutually', 'exclusive', 'collectively', 'exhaustive', 'mece', 'example', 'profit', 'definition', 'broken', 'total', 'revenue', 'cost', 'turn', 'analyzed', 'components', 'divisions', 'b', 'c', 'relate', 'supports', 'accepting', 'rejecting', 'hypothesis', 'trying', 'determine', 'extent', 'independent', 'variable', 'x', 'affects', 'dependent', 'y', 'changes', 'unemployment', 'rate', 'affect', 'inflation', 'model', 'fit', 'equation', 'curve', 'nca', 'allows', 'certain', 'necessary', 'regression', 'uses', 'additive', 'logic', 'produce', 'outcome', 'compensate', 'sufficient', 'condition', 'necessity', 'allow', 'exist', 'single', 'present', 'compensation', 'possible', 'examples', 'given', 'cases', 'attributes', 'z', 'concrete', 'conditions', 'attribute', 'satisfying', 'satisfy', 'compute', 'aggregate', 'numeric', 'representation', 'value', 'aggregation', 'f', 'possessing', 'extreme', 'range', 'n', 'respect', 'rank', 'according', 'ordinal', 'metric', 'sorted', 'order', 'span', 'characterize', 'distribution', 'identify', 'anomalies', 'expectation', 'statistical', 'outliers', 'unexpected', 'exceptional', 'clusters', 'similar', 'relationships', 'correlation', 'contextual', 'relevancy', 'relevant', 'barriers', 'effective', 'audience', 'distinguishing', 'fact', 'opinion', 'cognitive', 'biases', 'innumeracy', 'challenges', 'sound', 'able', 'agree', 'cbo', 'reported', 'examine', 'report', 'makes', 'persons', 'disagree', 'tendency', 'search', 'interpret', 'way', 'confirms', 'preconceptions', 'individuals', 'discredit', 'does', 'support', 'views', 'common', 'sizing', 'employed', 'adjusting', 'comparing', 'vs', 'nominal', 'considering', 'population', 'increases', 'demographics', 'apply', 'address', 'section', 'recast', 'financial', 'statements', 'assumptions', 'arrive', 'estimate', 'future', 'cash', 'flow', 'discount', 'based', 'valuation', 'company', 'stock', 'similarly', 'analyzes', 'effects', 'policy', 'options', 'government', 'outlays', 'deficits', 'creating', 'alternative', 'scenarios', 'measures', 'steps', 'carried', 'realise', 'smart', 'buildings', 'building', 'management', 'control', 'operations', 'including', 'heating', 'ventilation', 'air', 'conditioning', 'lighting', 'security', 'realised', 'automatically', 'miming', 'needs', 'optimising', 'resources', 'energy', 'contains', 'explanations', 'assist', 'practitioners', 'typical', 'wikipedia', 'article', 'quality', 'checked', 'early', 'assessed', 'ways', 'frequency', 'counts', 'descriptive', 'statistics', 'standard', 'deviation', 'median', 'normality', 'skewness', 'kurtosis', 'histograms', 'compared', 'coding', 'schemes', 'external', 'possibly', 'corrected', 'comparable', 'initial', 'phase', 'question', 'study', 'check', 'measurement', 'instruments', 'corresponds', 'literature', 'assess', 'note', 'listed', 'distortions', 'characteristics', 'sample', 'looking', 'decisions', 'main', 'analyses', 'variablesassociationscontinuous', 'variablesdistributionin', 'exploratory', 'confirmatory', 'approach', 'adopted', 'usually', 'decided', 'collected', 'clear', 'stated', 'analysing', 'searched', 'models', 'hypotheses', 'hard', 'look', 'stability', 'results', 'reliable', 'reproducible', 'methods', 'brief', 'list', 'popular', 'companies', 'organizations', 'hold', 'contests', 'encourage', 'researchers', 'utilize', 'solve', 'particular', 'known', 'international', 'follows', 'newpp', 'limit', 'reportparsed', 'mw', 'cached', 'cache', 'expiry', 'dynamic', 'content', 'falsecpu', 'usage', 'secondsreal', 'secondspreprocessor', 'visited', 'node', 'count', 'preprocessor', 'generated', 'expand', 'size', 'bytestemplate', 'argument', 'byteshighest', 'expansion', 'depth', 'expensive', 'parser', 'unstrip', 'recursion', 'bytesnumber', 'wikibase', 'entities', 'loaded', 'lua', 'secondslua', 'memory', 'mb', 'transclusion', 'ms', 'calls', 'template', 'reflist', 'cite', 'book', 'isbn', 'journal', 'authority', 'sidebar', 'collapsible', 'lists', 'fix', 'visualization', 'saved', 'enwiki', 'pcache', 'idhash', 'canonical', 'timestamp', 'revision', ''], 'term_freq': [[5, 1, 1, 1, 1, 6, 1, 2, 2, 1, 32, 6, 37, 2, 21, 2, 2, 2, 2, 6, 2, 4, 2, 3, 2, 23, 2, 2, 7, 8, 2, 2, 2, 2, 2, 2, 2, 4, 2, 2, 2, 9, 2, 2, 2, 8, 12, 6, 2, 2, 2, 2, 5, 10, 5, 5, 10, 7, 5, 3, 3, 3, 9, 3, 3, 3, 3, 8, 5, 5, 5, 5, 10, 5, 5, 9, 5, 5, 2, 2, 2, 2, 2, 14, 6, 2, 4, 8, 8, 4, 4, 4, 5, 4, 4, 4, 4, 10, 4, 8, 8, 4, 4, 4, 4, 6, 4, 2, 2, 2, 2, 2, 2, 2, 2, 2, 2, 2, 2, 2, 2, 2, 2, 2, 2, 2, 4, 4, 6, 4, 4, 4, 4, 4, 4, 8, 4, 4, 4, 4, 4, 4, 6, 4, 4, 4, 4, 4, 4, 4, 8, 4, 4, 4, 4, 4, 4, 2, 2, 2, 2, 2, 2, 2, 2, 2, 2, 2, 2, 4, 5, 7, 1, 9, 4, 4, 13, 4, 1, 4, 1, 4, 2, 5, 1, 4, 1, 3, 2, 2, 1, 1, 11, 3, 3, 2, 1, 3, 1, 1, 1, 1, 2, 2, 2, 1, 1, 1, 2, 1, 1, 1, 1, 1, 1, 3, 1, 4, 4, 1, 2, 2, 2, 2, 2, 1, 1, 1, 1, 1, 0, 0, 0, 0, 0, 0, 0, 0, 0, 0, 0, 0, 0, 0, 0, 0, 0, 0, 0, 0, 0, 0, 0, 0, 0, 0, 0, 0, 0, 0, 0, 0, 0, 0, 0, 0, 0, 0, 0, 0, 0, 0, 0, 0, 0, 0, 0, 0, 0, 0, 0, 0, 0, 0, 0, 0, 0, 0, 0, 0, 0, 0, 0, 0, 0, 0, 0, 0, 0, 0, 0, 0, 0, 0, 0, 0, 0, 0, 0, 0, 0, 0, 0, 0, 0, 0, 0, 0, 0, 0, 0, 0, 0, 0, 0, 0, 0, 0, 0, 0, 0, 0, 0, 0, 0, 0, 0, 0, 0, 0, 0, 0, 0, 0, 0, 0, 0, 0, 0, 0, 0, 0, 0, 0, 0, 0, 0, 0, 0, 0, 0, 0, 0, 0, 0, 0, 0, 0, 0, 0, 0, 0, 0, 0, 0, 0, 0, 0, 0, 0, 0, 0, 0, 0, 0, 0, 0, 0, 0, 0, 0, 0, 0, 0, 0, 0, 0, 0, 0, 0, 0, 0, 0, 0, 0, 0, 0, 0, 0, 0, 0, 0, 0, 0, 0, 0, 0, 0, 0, 0, 0, 0, 0, 0, 0, 0, 0, 0, 0, 0, 0, 0, 0, 0, 0, 0, 0, 0, 0, 0, 0, 0, 0, 0, 0, 0, 0, 0, 0, 0, 0, 0, 0, 0, 0, 0, 0, 0, 0, 0, 0, 0, 0, 0, 0, 0, 0, 0, 0, 0, 0, 0, 0, 0, 0, 0, 0, 0, 0, 0, 0, 0, 0, 0, 0, 0, 0, 0, 0, 0, 0, 0, 0, 0, 0, 0, 0, 0, 0, 0, 0, 0, 0, 0, 0, 0, 0, 0, 0, 0, 0, 0, 0, 0, 0, 0, 0, 0, 0, 0, 0, 0, 0, 0, 0, 0, 0, 0, 0, 0, 0, 0, 0, 0, 0, 0, 0, 0, 0, 0, 0, 0, 0, 0, 0, 0, 0, 0, 0, 0, 0, 0, 0, 0, 0, 0, 0, 0, 0, 0, 0, 0, 0, 0, 0, 0, 0, 0, 0, 0, 0, 0, 0, 0, 0, 0, 0, 0, 0, 0, 0, 0, 0, 0, 0, 0, 0, 0, 0, 0, 0, 0, 0, 0, 0, 0, 0, 0, 0, 0, 0, 0, 0, 0, 0, 0, 0, 0, 0, 0, 0, 0, 0, 0, 0, 0, 0, 0, 0, 0, 0, 0, 0, 0, 0, 0, 0, 0, 0, 0, 0, 0, 0, 0, 0, 0, 0, 0, 0, 0, 0, 0, 0, 0, 0, 0, 0, 0], [0, 2, 0, 0, 0, 0, 0, 0, 0, 0, 1, 0, 0, 0, 58, 2, 0, 0, 0, 0, 2, 0, 0, 0, 0, 0, 0, 0, 0, 2, 0, 0, 0, 0, 1, 0, 0, 0, 0, 1, 0, 0, 1, 0, 0, 0, 0, 12, 0, 4, 0, 0, 1, 0, 0, 0, 0, 6, 0, 0, 0, 0, 0, 0, 0, 0, 0, 0, 0, 0, 0, 0, 0, 0, 0, 0, 0, 0, 0, 0, 0, 0, 0, 0, 1, 0, 0, 0, 1, 0, 0, 0, 1, 0, 0, 0, 0, 0, 0, 0, 0, 0, 0, 0, 0, 0, 0, 0, 0, 0, 0, 0, 0, 0, 1, 0, 0, 0, 0, 0, 0, 0, 0, 0, 0, 0, 0, 0, 0, 0, 0, 0, 0, 1, 0, 1, 1, 0, 0, 0, 0, 0, 0, 0, 0, 1, 1, 0, 0, 1, 0, 0, 0, 0, 0, 0, 0, 0, 0, 0, 1, 2, 0, 0, 0, 0, 2, 0, 0, 0, 0, 3, 0, 0, 0, 0, 0, 0, 0, 0, 0, 0, 0, 0, 0, 0, 0, 0, 0, 0, 0, 0, 0, 0, 0, 0, 1, 0, 0, 0, 0, 0, 1, 0, 0, 0, 2, 0, 0, 0, 0, 0, 0, 0, 0, 0, 0, 0, 0, 0, 0, 0, 0, 0, 0, 0, 0, 0, 0, 0, 1, 1, 3, 1, 1, 1, 1, 1, 17, 2, 1, 1, 1, 1, 3, 2, 1, 6, 5, 2, 1, 1, 1, 1, 1, 2, 4, 3, 4, 5, 2, 1, 1, 2, 1, 5, 4, 1, 2, 1, 5, 1, 2, 2, 4, 2, 1, 22, 1, 1, 1, 1, 1, 1, 4, 2, 1, 2, 1, 1, 1, 1, 1, 4, 1, 10, 1, 2, 2, 1, 2, 1, 2, 2, 2, 2, 1, 1, 1, 1, 1, 5, 5, 1, 1, 1, 1, 1, 3, 3, 1, 1, 1, 1, 2, 2, 4, 4, 2, 5, 11, 1, 1, 8, 1, 2, 5, 1, 3, 1, 1, 1, 1, 2, 1, 2, 5, 1, 2, 1, 2, 2, 2, 1, 2, 2, 1, 1, 2, 1, 2, 1, 3, 2, 13, 27, 6, 2, 1, 3, 10, 1, 1, 1, 1, 1, 1, 5, 1, 1, 1, 1, 2, 2, 2, 1, 3, 2, 1, 1, 3, 2, 1, 2, 1, 1, 1, 3, 1, 1, 1, 1, 2, 1, 1, 1, 1, 1, 1, 1, 1, 1, 2, 2, 1, 1, 1, 1, 1, 1, 2, 3, 2, 1, 2, 1, 1, 1, 1, 1, 1, 2, 1, 1, 1, 1, 1, 1, 1, 1, 1, 1, 1, 1, 1, 2, 1, 1, 1, 1, 1, 1, 2, 1, 1, 1, 1, 1, 1, 2, 1, 1, 1, 1, 1, 1, 1, 1, 1, 1, 1, 1, 1, 1, 1, 1, 1, 1, 1, 1, 1, 1, 1, 1, 2, 1, 2, 1, 1, 1, 1, 1, 1, 1, 1, 1, 1, 1, 1, 1, 1, 1, 1, 1, 1, 1, 1, 1, 1, 2, 3, 1, 2, 3, 2, 1, 1, 1, 1, 1, 1, 1, 1, 1, 1, 1, 2, 2, 1, 1, 1, 1, 1, 2, 2, 1, 2, 2, 1, 1, 1, 1, 1, 1, 1, 1, 1, 1, 1, 3, 2, 1, 1, 2, 2, 2, 1, 1, 1, 1, 2, 1, 1, 1, 1, 1, 1, 1, 1, 2, 1, 1, 2, 1, 1, 1, 1, 1, 1, 2, 1, 1, 1, 1, 1, 1, 1, 1, 1, 1, 1, 1, 1, 2, 1, 1, 1, 1, 4, 1, 1, 1, 2, 3, 1, 1, 2, 3, 1, 1, 1, 2, 2, 1, 2, 2, 1, 1, 1, 1, 1, 1, 1, 1, 2, 1, 1, 1, 10, 1, 2, 1, 1, 1, 1, 1, 1, 1, 1, 1, 1, 1, 1, 1, 1, 1, 1, 0], [0, 0, 0, 0, 0, 0, 0, 0, 0, 0, 0, 0, 0, 0, 0, 0, 0, 0, 0, 0, 0, 0, 0, 0, 0, 0, 0, 0, 0, 0, 0, 0, 0, 0, 0, 0, 0, 0, 0, 0, 0, 0, 0, 0, 0, 0, 0, 0, 0, 0, 0, 0, 0, 0, 0, 0, 0, 0, 0, 0, 0, 0, 0, 0, 0, 0, 0, 0, 0, 0, 0, 0, 0, 0, 0, 0, 0, 0, 0, 0, 0, 0, 0, 0, 0, 0, 0, 0, 0, 0, 0, 0, 0, 0, 0, 0, 0, 0, 0, 0, 0, 0, 0, 0, 0, 0, 0, 0, 0, 0, 0, 0, 0, 0, 0, 0, 0, 0, 0, 0, 0, 0, 0, 0, 0, 0, 0, 0, 0, 0, 0, 0, 0, 0, 0, 0, 0, 0, 0, 0, 0, 0, 0, 0, 0, 0, 0, 0, 0, 0, 0, 0, 0, 0, 0, 0, 0, 0, 0, 0, 0, 0, 0, 0, 0, 0, 0, 0, 0, 0, 0, 0, 0, 0, 0, 0, 0, 0, 0, 0, 0, 0, 0, 0, 0, 0, 0, 0, 0, 0, 0, 0, 0, 0, 0, 0, 0, 0, 0, 0, 0, 0, 0, 0, 0, 0, 0, 0, 0, 0, 0, 0, 0, 0, 0, 0, 0, 0, 0, 0, 0, 0, 0, 0, 0, 0, 0, 0, 0, 0, 0, 0, 0, 0, 0, 0, 0, 0, 0, 0, 0, 0, 0, 0, 0, 0, 0, 0, 0, 0, 0, 0, 0, 0, 0, 0, 0, 0, 0, 0, 0, 0, 0, 0, 0, 0, 0, 0, 0, 0, 0, 0, 0, 0, 0, 0, 0, 0, 0, 0, 0, 0, 0, 0, 0, 0, 0, 0, 0, 0, 0, 0, 0, 0, 0, 0, 0, 0, 0, 0, 0, 0, 0, 0, 0, 0, 0, 0, 0, 0, 0, 0, 0, 0, 0, 0, 0, 0, 0, 0, 0, 0, 0, 0, 0, 0, 0, 0, 0, 0, 0, 0, 0, 0, 0, 0, 0, 0, 0, 0, 0, 0, 0, 0, 0, 0, 0, 0, 0, 0, 0, 0, 0, 0, 0, 0, 0, 0, 0, 0, 0, 0, 0, 0, 0, 0, 0, 0, 0, 0, 0, 0, 0, 0, 0, 0, 0, 0, 0, 0, 0, 0, 0, 0, 0, 0, 0, 0, 0, 0, 0, 0, 0, 0, 0, 0, 0, 0, 0, 0, 0, 0, 0, 0, 0, 0, 0, 0, 0, 0, 0, 0, 0, 0, 0, 0, 0, 0, 0, 0, 0, 0, 0, 0, 0, 0, 0, 0, 0, 0, 0, 0, 0, 0, 0, 0, 0, 0, 0, 0, 0, 0, 0, 0, 0, 0, 0, 0, 0, 0, 0, 0, 0, 0, 0, 0, 0, 0, 0, 0, 0, 0, 0, 0, 0, 0, 0, 0, 0, 0, 0, 0, 0, 0, 0, 0, 0, 0, 0, 0, 0, 0, 0, 0, 0, 0, 0, 0, 0, 0, 0, 0, 0, 0, 0, 0, 0, 0, 0, 0, 0, 0, 0, 0, 0, 0, 0, 0, 0, 0, 0, 0, 0, 0, 0, 0, 0, 0, 0, 0, 0, 0, 0, 0, 0, 0, 0, 0, 0, 0, 0, 0, 0, 0, 0, 0, 0, 0, 0, 0, 0, 0, 0, 0, 0, 0, 0, 0, 0, 0, 0, 0, 0, 0, 0, 0, 0, 0, 0, 0, 0, 0, 0, 0, 0, 0, 0, 0, 0, 0, 0, 0, 0, 0, 0, 0, 0, 0, 0, 0, 0, 0, 0, 0, 0, 0, 0, 0, 0, 0, 0, 0, 0, 0, 0, 0, 0, 0, 0, 0, 0, 0, 0, 0, 0, 0, 0, 0, 0, 0, 0, 0, 0, 0, 0, 0, 0, 0, 0, 0, 0, 0, 0, 0, 0, 0, 0, 0, 0, 0, 0, 0, 0, 0, 0, 0, 0, 0, 0, 0, 0, 0, 0, 0, 0, 0, 0, 0]]}\n"
     ]
    }
   ],
   "source": [
    "from sklearn.feature_extraction import stop_words\n",
    "bow = get_bow_from_docs([\n",
    "        'www.coursereport.com_ironhack.html',\n",
    "        'en.wikipedia.org_Data_analysis.html',\n",
    "        'www.lipsum.com.html'\n",
    "    ],\n",
    "    stop_words.ENGLISH_STOP_WORDS\n",
    ")\n",
    "print(bow)"
   ]
  },
  {
   "cell_type": "markdown",
   "metadata": {},
   "source": [
    "Do you see any problem in the output? How do you improve the output?\n",
    "\n",
    "A good way to improve your codes is to look into the HTML data sources and try to understand where the messy output came from. A good data analyst always learns about the data in depth in order to perform the job well.\n",
    "\n",
    "Spend 20-30 minutes to improve your functions or until you feel you are good at string operations. This lab is just a practice so you don't need to stress yourself out. If you feel you've practiced enough you can stop and move on the next challenge question."
   ]
  },
  {
   "cell_type": "code",
   "execution_count": null,
   "metadata": {},
   "outputs": [],
   "source": []
  }
 ],
 "metadata": {
  "kernelspec": {
   "display_name": "Python 3",
   "language": "python",
   "name": "python3"
  },
  "language_info": {
   "codemirror_mode": {
    "name": "ipython",
    "version": 3
   },
   "file_extension": ".py",
   "mimetype": "text/x-python",
   "name": "python",
   "nbconvert_exporter": "python",
   "pygments_lexer": "ipython3",
   "version": "3.6.7"
  }
 },
 "nbformat": 4,
 "nbformat_minor": 2
}
