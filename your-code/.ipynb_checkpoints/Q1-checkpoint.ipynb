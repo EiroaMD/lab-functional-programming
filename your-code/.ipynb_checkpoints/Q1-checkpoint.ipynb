{
 "cells": [
  {
   "cell_type": "markdown",
   "metadata": {},
   "source": [
    "In the cell below, create a Python function that wraps your previous solution for the Bag of Words lab.\n",
    "\n",
    "Requirements:\n",
    "\n",
    "1. Your function should accept the following parameters:\n",
    "    * `docs` [REQUIRED] - array of document paths.\n",
    "    * `stop_words` [OPTIONAL] - array of stop words. The default value is an empty array.\n",
    "\n",
    "1. Your function should return a Python object that contains the following:\n",
    "    * `bag_of_words` - array of strings of normalized unique words in the corpus.\n",
    "    * `term_freq` - array of the term-frequency vectors."
   ]
  },
  {
   "cell_type": "code",
   "execution_count": 9,
   "metadata": {},
   "outputs": [],
   "source": [
    "# Import required libraries\n",
    "\n",
    "# Define function\n",
    "def get_doc_from_docs(docs, stop_words=[]):\n",
    "    \n",
    "    # In the function, first define the variables you will use such as `corpus`, `bag_of_words`, and `term_freq`.\n",
    "    import re\n",
    "    corpus = []\n",
    "    bag_of_words = []\n",
    "    term_freq = []\n",
    "    #Loop `docs` and read the content of each doc into a string in `corpus`. Remember to convert the doc content to lowercases and remove punctuation.\n",
    "    corpus = [open(i).read().lower() for i in docs]\n",
    "    pattern = '[^A-Za-z0-9]+'\n",
    "    corpus = [re.sub(pattern, ' ', i).strip() for i in corpus]\n",
    "  \n",
    "    # Loop `corpus`. Append the terms in each doc into the `bag_of_words` array. The terms in `bag_of_words` \n",
    "    # should be unique which means before adding each term you need to check if it's already added to the array.\n",
    "    #In addition, check if each term is in the `stop_words` array. Only append the term to `bag_of_words`\n",
    "    #if it is not a stop word.\n",
    "    for x in corpus:\n",
    "        array = re.split(' ', x)\n",
    "        for y in array:\n",
    "            if y not in bag_of_words:\n",
    "                if y not in stop_words:\n",
    "                    bag_of_words.append(y)\n",
    "    \n",
    "    # Loop `corpus` again. For each doc string, count the number of occurrences of each term in `bag_of_words`. \n",
    "    # Create an array for each doc's term frequency and append it to `term_freq`.\n",
    "    for x in corpus:\n",
    "        list_of_words = ''.join(x).split()\n",
    "        word_freq = [list_of_words.count(z) for z in bag_of_words]\n",
    "        term_freq.append(word_freq)  \n",
    "    \n",
    "    \n",
    "    # Now return your output as an object\n",
    "    return {\n",
    "        \"bag_of_words\": bag_of_words,\n",
    "        \"term_freq\": term_freq\n",
    "    }\n",
    "    "
   ]
  },
  {
   "cell_type": "code",
   "execution_count": null,
   "metadata": {},
   "outputs": [],
   "source": []
  },
  {
   "cell_type": "markdown",
   "metadata": {},
   "source": [
    "Test your function without stop words. You should see the output like below:\n",
    "\n",
    "```{'bag_of_words': ['ironhack', 'is', 'cool', 'i', 'love', 'am', 'a', 'student', 'at'], 'term_freq': [[1, 1, 1, 0, 0, 0, 0, 0, 0], [1, 0, 0, 1, 1, 0, 0, 0, 0], [1, 0, 0, 1, 0, 1, 1, 1, 1]]}```"
   ]
  },
  {
   "cell_type": "code",
   "execution_count": 10,
   "metadata": {},
   "outputs": [
    {
     "name": "stdout",
     "output_type": "stream",
     "text": [
      "{'bag_of_words': ['ironhack', 'is', 'cool', 'i', 'love', 'am', 'a', 'student', 'at'], 'term_freq': [[1, 1, 1, 0, 0, 0, 0, 0, 0], [1, 0, 0, 1, 1, 0, 0, 0, 0], [1, 0, 0, 1, 0, 1, 1, 1, 1]]}\n"
     ]
    }
   ],
   "source": [
    "# Define doc paths array\n",
    "docs = ['doc1.txt', 'doc2.txt', 'doc3.txt']\n",
    "\n",
    "# Obtain BoW from your function\n",
    "bow = get_doc_from_docs(docs)\n",
    "\n",
    "# Print BoW\n",
    "print(bow)"
   ]
  },
  {
   "cell_type": "markdown",
   "metadata": {},
   "source": [
    "If your attempt above is successful, nice work done!\n",
    "\n",
    "Now test your function again with the stop words. In the previous lab we defined the stop words in a large array. In this lab, we'll import the stop words from Scikit-Learn."
   ]
  },
  {
   "cell_type": "code",
   "execution_count": 6,
   "metadata": {},
   "outputs": [
    {
     "name": "stdout",
     "output_type": "stream",
     "text": [
      "Collecting sklearn\n",
      "  Downloading https://files.pythonhosted.org/packages/1e/7a/dbb3be0ce9bd5c8b7e3d87328e79063f8b263b2b1bfa4774cb1147bfcd3f/sklearn-0.0.tar.gz\n",
      "Collecting scikit-learn (from sklearn)\n",
      "  Downloading https://files.pythonhosted.org/packages/85/04/49633f490f726da6e454fddc8e938bbb5bfed2001681118d3814c219b723/scikit_learn-0.21.2-cp36-cp36m-manylinux1_x86_64.whl (6.7MB)\n",
      "\u001b[K    100% |████████████████████████████████| 6.7MB 270kB/s eta 0:00:01\n",
      "\u001b[?25hCollecting scipy>=0.17.0 (from scikit-learn->sklearn)\n",
      "  Downloading https://files.pythonhosted.org/packages/72/4c/5f81e7264b0a7a8bd570810f48cd346ba36faedbd2ba255c873ad556de76/scipy-1.3.0-cp36-cp36m-manylinux1_x86_64.whl (25.2MB)\n",
      "\u001b[K    100% |████████████████████████████████| 25.2MB 69kB/s  eta 0:00:011\n",
      "\u001b[?25hCollecting joblib>=0.11 (from scikit-learn->sklearn)\n",
      "  Downloading https://files.pythonhosted.org/packages/cd/c1/50a758e8247561e58cb87305b1e90b171b8c767b15b12a1734001f41d356/joblib-0.13.2-py2.py3-none-any.whl (278kB)\n",
      "\u001b[K    100% |████████████████████████████████| 286kB 6.0MB/s eta 0:00:01\n",
      "\u001b[?25hCollecting numpy>=1.11.0 (from scikit-learn->sklearn)\n",
      "  Using cached https://files.pythonhosted.org/packages/87/2d/e4656149cbadd3a8a0369fcd1a9c7d61cc7b87b3903b85389c70c989a696/numpy-1.16.4-cp36-cp36m-manylinux1_x86_64.whl\n",
      "Building wheels for collected packages: sklearn\n",
      "  Running setup.py bdist_wheel for sklearn ... \u001b[?25ldone\n",
      "\u001b[?25h  Stored in directory: /home/eiroamd/.cache/pip/wheels/76/03/bb/589d421d27431bcd2c6da284d5f2286c8e3b2ea3cf1594c074\n",
      "Successfully built sklearn\n",
      "Installing collected packages: numpy, scipy, joblib, scikit-learn, sklearn\n",
      "Successfully installed joblib-0.13.2 numpy-1.16.4 scikit-learn-0.21.2 scipy-1.3.0 sklearn-0.0\n"
     ]
    }
   ],
   "source": []
  },
  {
   "cell_type": "code",
   "execution_count": 11,
   "metadata": {},
   "outputs": [
    {
     "name": "stdout",
     "output_type": "stream",
     "text": [
      "frozenset({'before', 'found', 'name', 'will', 'another', 'fifty', 'first', 'show', 'would', 'interest', 'least', 'am', 'which', 'everywhere', 'throughout', 'every', 'where', 'full', 'elsewhere', 'forty', 'noone', 'nine', 'anyway', 'become', 'itself', 'she', 'thus', 'hereupon', 'whole', 'anyone', 'done', 'upon', 'seeming', 'while', 'beforehand', 'hundred', 'already', 'becoming', 'keep', 'ltd', 'whereby', 'how', 'most', 'for', 'above', 'below', 'beside', 'all', 'cry', 'becomes', 'ourselves', 'former', 'same', 'our', 'everyone', 'four', 'however', 'per', 'system', 'until', 'alone', 'with', 'not', 'around', 'bottom', 'amount', 'amongst', 'in', 'cant', 'to', 'himself', 'then', 'hers', 'meanwhile', 'some', 'thence', 'herself', 'both', 'toward', 'whence', 'herein', 'whom', 'without', 'along', 'sincere', 'why', 'whatever', 'because', 'since', 'sometimes', 'there', 'otherwise', 'are', 'enough', 'therein', 'hence', 'something', 'thereby', 'wherever', 'two', 'get', 'together', 'made', 'it', 'co', 'each', 'seemed', 'an', 'whereupon', 'such', 'those', 'besides', 'detail', 'during', 'me', 'twelve', 'among', 'about', 'against', 'sixty', 'behind', 'else', 'been', 'somewhere', 're', 'still', 'and', 'seem', 'even', 'hereafter', 'myself', 'yours', 'became', 'your', 'own', 'either', 'please', 'has', 'inc', 'top', 'may', 'give', 'never', 'he', 'three', 'due', 'as', 'eleven', 'a', 'bill', 'after', 'through', 'third', 'him', 'their', 'again', 'amoungst', 'i', 'my', 'nor', 'etc', 'five', 'eight', 'serious', 'be', 'was', 'they', 'but', 'at', 'further', 'is', 'ten', 'nevertheless', 'seems', 'them', 'over', 'one', 'if', 'thereafter', 'than', 'see', 'sometime', 'therefore', 'only', 'this', 'might', 'we', 'too', 'moreover', 'fire', 'under', 'anywhere', 'were', 'can', 'here', 'other', 'put', 'between', 'these', 'who', 'hasnt', 'off', 'call', 'nothing', 'anything', 'perhaps', 'few', 'others', 'eg', 'of', 'part', 'indeed', 'somehow', 'what', 'so', 'though', 'de', 'do', 'several', 'thick', 'well', 'side', 'whereafter', 'whether', 'almost', 'mine', 'whereas', 'latterly', 'anyhow', 'cannot', 'could', 'latter', 'whenever', 'beyond', 'fifteen', 'whose', 'also', 'except', 'describe', 'her', 'any', 'ie', 'afterwards', 'none', 'across', 'the', 'ever', 'mostly', 'more', 'should', 'out', 'twenty', 'take', 'mill', 'thereupon', 'many', 'no', 'find', 'less', 'us', 'very', 'yet', 'whoever', 'ours', 'rather', 'empty', 'up', 'whither', 'now', 'yourself', 'into', 'con', 'must', 'move', 'often', 'neither', 'or', 'by', 'themselves', 'nobody', 'last', 'down', 'six', 'un', 'always', 'have', 'when', 'couldnt', 'towards', 'thru', 'that', 'within', 'via', 'hereby', 'onto', 'thin', 'wherein', 'from', 'being', 'formerly', 'his', 'next', 'back', 'nowhere', 'everything', 'go', 'namely', 'on', 'someone', 'much', 'you', 'fill', 'yourselves', 'its', 'although', 'had', 'front', 'once'})\n"
     ]
    }
   ],
   "source": [
    "from sklearn.feature_extraction import stop_words\n",
    "print(stop_words.ENGLISH_STOP_WORDS)"
   ]
  },
  {
   "cell_type": "markdown",
   "metadata": {},
   "source": [
    "You should have seen a large list of words that looks like:\n",
    "\n",
    "```frozenset({'across', 'mine', 'cannot', ...})```\n",
    "\n",
    "`frozenset` is a type of Python object that is immutable. In this lab you can use it just like an array without conversion."
   ]
  },
  {
   "cell_type": "markdown",
   "metadata": {},
   "source": [
    "Next, test your function with supplying `stop_words.ENGLISH_STOP_WORDS` as the second parameter."
   ]
  },
  {
   "cell_type": "code",
   "execution_count": 13,
   "metadata": {},
   "outputs": [
    {
     "name": "stdout",
     "output_type": "stream",
     "text": [
      "{'bag_of_words': ['ironhack', 'cool', 'love', 'student'], 'term_freq': [[1, 1, 0, 0], [1, 0, 1, 0], [1, 0, 0, 1]]}\n"
     ]
    }
   ],
   "source": [
    "bow = get_doc_from_docs(docs, stop_words.ENGLISH_STOP_WORDS)\n",
    "\n",
    "print(bow)"
   ]
  },
  {
   "cell_type": "markdown",
   "metadata": {},
   "source": [
    "You should have seen:\n",
    "\n",
    "```{'bag_of_words': ['ironhack', 'cool', 'love', 'student'], 'term_freq': [[1, 1, 0, 0], [1, 0, 1, 0], [1, 0, 0, 1]]}```"
   ]
  },
  {
   "cell_type": "code",
   "execution_count": null,
   "metadata": {},
   "outputs": [],
   "source": []
  }
 ],
 "metadata": {
  "kernelspec": {
   "display_name": "Python 3",
   "language": "python",
   "name": "python3"
  },
  "language_info": {
   "codemirror_mode": {
    "name": "ipython",
    "version": 3
   },
   "file_extension": ".py",
   "mimetype": "text/x-python",
   "name": "python",
   "nbconvert_exporter": "python",
   "pygments_lexer": "ipython3",
   "version": "3.6.7"
  }
 },
 "nbformat": 4,
 "nbformat_minor": 2
}
