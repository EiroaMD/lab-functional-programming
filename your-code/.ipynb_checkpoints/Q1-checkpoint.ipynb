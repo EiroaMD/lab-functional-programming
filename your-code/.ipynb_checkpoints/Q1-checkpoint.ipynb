{
 "cells": [
  {
   "cell_type": "markdown",
   "metadata": {},
   "source": [
    "In the cell below, create a Python function that wraps your previous solution for the Bag of Words lab.\n",
    "\n",
    "Requirements:\n",
    "\n",
    "1. Your function should accept the following parameters:\n",
    "    * `docs` [REQUIRED] - array of document paths.\n",
    "    * `stop_words` [OPTIONAL] - array of stop words. The default value is an empty array.\n",
    "\n",
    "1. Your function should return a Python object that contains the following:\n",
    "    * `bag_of_words` - array of strings of normalized unique words in the corpus.\n",
    "    * `term_freq` - array of the term-frequency vectors."
   ]
  },
  {
   "cell_type": "code",
   "execution_count": 1,
   "metadata": {},
   "outputs": [],
   "source": [
    "# Import required libraries\n",
    "\n",
    "# Define function\n",
    "def get_bow_from_docs(docs, stop_words=[]):\n",
    "    \n",
    "    # In the function, first define the variables you will use such as `corpus`, `bag_of_words`, and `term_freq`.\n",
    "    import re\n",
    "    corpus = []\n",
    "    bag_of_words = []\n",
    "    term_freq = []\n",
    "    #Loop `docs` and read the content of each doc into a string in `corpus`. Remember to convert the doc content to lowercases and remove punctuation.\n",
    "    corpus = [open(i).read().lower() for i in docs]\n",
    "    pattern = '[^A-Za-z0-9]+'\n",
    "    corpus = [re.sub(pattern, ' ', i).strip() for i in corpus]\n",
    "  \n",
    "    # Loop `corpus`. Append the terms in each doc into the `bag_of_words` array. The terms in `bag_of_words` \n",
    "    # should be unique which means before adding each term you need to check if it's already added to the array.\n",
    "    #In addition, check if each term is in the `stop_words` array. Only append the term to `bag_of_words`\n",
    "    #if it is not a stop word.\n",
    "    for x in corpus:\n",
    "        array = re.split(' ', x)\n",
    "        for y in array:\n",
    "            if y not in bag_of_words:\n",
    "                if y not in stop_words:\n",
    "                    bag_of_words.append(y)\n",
    "    \n",
    "    # Loop `corpus` again. For each doc string, count the number of occurrences of each term in `bag_of_words`. \n",
    "    # Create an array for each doc's term frequency and append it to `term_freq`.\n",
    "    for x in corpus:\n",
    "        list_of_words = ''.join(x).split()\n",
    "        word_freq = [list_of_words.count(z) for z in bag_of_words]\n",
    "        term_freq.append(word_freq)  \n",
    "    \n",
    "    \n",
    "    # Now return your output as an object\n",
    "    return {\n",
    "        \"bag_of_words\": bag_of_words,\n",
    "        \"term_freq\": term_freq\n",
    "    }\n",
    "    "
   ]
  },
  {
   "cell_type": "code",
   "execution_count": null,
   "metadata": {},
   "outputs": [],
   "source": []
  },
  {
   "cell_type": "markdown",
   "metadata": {},
   "source": [
    "Test your function without stop words. You should see the output like below:\n",
    "\n",
    "```{'bag_of_words': ['ironhack', 'is', 'cool', 'i', 'love', 'am', 'a', 'student', 'at'], 'term_freq': [[1, 1, 1, 0, 0, 0, 0, 0, 0], [1, 0, 0, 1, 1, 0, 0, 0, 0], [1, 0, 0, 1, 0, 1, 1, 1, 1]]}```"
   ]
  },
  {
   "cell_type": "code",
   "execution_count": 2,
   "metadata": {},
   "outputs": [
    {
     "name": "stdout",
     "output_type": "stream",
     "text": [
      "{'bag_of_words': ['ironhack', 'is', 'cool', 'i', 'love', 'am', 'a', 'student', 'at'], 'term_freq': [[1, 1, 1, 0, 0, 0, 0, 0, 0], [1, 0, 0, 1, 1, 0, 0, 0, 0], [1, 0, 0, 1, 0, 1, 1, 1, 1]]}\n"
     ]
    }
   ],
   "source": [
    "# Define doc paths array\n",
    "docs = ['doc1.txt', 'doc2.txt', 'doc3.txt']\n",
    "\n",
    "# Obtain BoW from your function\n",
    "bow = get_bow_from_docs(docs)\n",
    "\n",
    "# Print BoW\n",
    "print(bow)"
   ]
  },
  {
   "cell_type": "markdown",
   "metadata": {},
   "source": [
    "If your attempt above is successful, nice work done!\n",
    "\n",
    "Now test your function again with the stop words. In the previous lab we defined the stop words in a large array. In this lab, we'll import the stop words from Scikit-Learn."
   ]
  },
  {
   "cell_type": "code",
   "execution_count": 6,
   "metadata": {},
   "outputs": [
    {
     "name": "stdout",
     "output_type": "stream",
     "text": [
      "Collecting sklearn\n",
      "  Downloading https://files.pythonhosted.org/packages/1e/7a/dbb3be0ce9bd5c8b7e3d87328e79063f8b263b2b1bfa4774cb1147bfcd3f/sklearn-0.0.tar.gz\n",
      "Collecting scikit-learn (from sklearn)\n",
      "  Downloading https://files.pythonhosted.org/packages/85/04/49633f490f726da6e454fddc8e938bbb5bfed2001681118d3814c219b723/scikit_learn-0.21.2-cp36-cp36m-manylinux1_x86_64.whl (6.7MB)\n",
      "\u001b[K    100% |████████████████████████████████| 6.7MB 270kB/s eta 0:00:01\n",
      "\u001b[?25hCollecting scipy>=0.17.0 (from scikit-learn->sklearn)\n",
      "  Downloading https://files.pythonhosted.org/packages/72/4c/5f81e7264b0a7a8bd570810f48cd346ba36faedbd2ba255c873ad556de76/scipy-1.3.0-cp36-cp36m-manylinux1_x86_64.whl (25.2MB)\n",
      "\u001b[K    100% |████████████████████████████████| 25.2MB 69kB/s  eta 0:00:011\n",
      "\u001b[?25hCollecting joblib>=0.11 (from scikit-learn->sklearn)\n",
      "  Downloading https://files.pythonhosted.org/packages/cd/c1/50a758e8247561e58cb87305b1e90b171b8c767b15b12a1734001f41d356/joblib-0.13.2-py2.py3-none-any.whl (278kB)\n",
      "\u001b[K    100% |████████████████████████████████| 286kB 6.0MB/s eta 0:00:01\n",
      "\u001b[?25hCollecting numpy>=1.11.0 (from scikit-learn->sklearn)\n",
      "  Using cached https://files.pythonhosted.org/packages/87/2d/e4656149cbadd3a8a0369fcd1a9c7d61cc7b87b3903b85389c70c989a696/numpy-1.16.4-cp36-cp36m-manylinux1_x86_64.whl\n",
      "Building wheels for collected packages: sklearn\n",
      "  Running setup.py bdist_wheel for sklearn ... \u001b[?25ldone\n",
      "\u001b[?25h  Stored in directory: /home/eiroamd/.cache/pip/wheels/76/03/bb/589d421d27431bcd2c6da284d5f2286c8e3b2ea3cf1594c074\n",
      "Successfully built sklearn\n",
      "Installing collected packages: numpy, scipy, joblib, scikit-learn, sklearn\n",
      "Successfully installed joblib-0.13.2 numpy-1.16.4 scikit-learn-0.21.2 scipy-1.3.0 sklearn-0.0\n"
     ]
    }
   ],
   "source": []
  },
  {
   "cell_type": "code",
   "execution_count": 3,
   "metadata": {},
   "outputs": [
    {
     "name": "stdout",
     "output_type": "stream",
     "text": [
      "frozenset({'several', 'somewhere', 'please', 'four', 'these', 'eight', 'ever', 'why', 'elsewhere', 'herself', 'however', 'con', 'toward', 'side', 'formerly', 'that', 'this', 'how', 'amongst', 'no', 'other', 'serious', 'afterwards', 'very', 'would', 'noone', 'me', 'whereupon', 'whom', 'himself', 'per', 'she', 'the', 'amoungst', 'been', 'else', 'indeed', 'am', 'describe', 'hereby', 'being', 'thin', 'via', 'hereafter', 'nowhere', 'well', 'or', 'whenever', 'into', 'every', 'thick', 'meanwhile', 'by', 'across', 'behind', 'always', 'everywhere', 'had', 'rather', 'so', 'thereupon', 'three', 'though', 'whatever', 'whereby', 'except', 'something', 'interest', 'around', 'all', 'further', 'hers', 'least', 'perhaps', 'due', 'therefore', 'one', 'yours', 'could', 'give', 'them', 'whether', 'anyway', 'out', 'nothing', 'then', 'too', 'us', 'anything', 'become', 'him', 'everyone', 'hasnt', 'as', 'often', 'he', 'while', 'former', 'here', 'take', 'made', 'since', 'also', 'against', 'at', 'eleven', 'yet', 'from', 'about', 'nevertheless', 'even', 'cry', 'seem', 'ten', 'themselves', 'was', 'among', 'up', 'such', 'two', 'cant', 'do', 'off', 'until', 'what', 'although', 'upon', 'cannot', 'keep', 'couldnt', 'some', 'together', 'must', 'someone', 'go', 'itself', 'latter', 'top', 'show', 'find', 'but', 'whose', 'with', 'my', 'below', 'myself', 'six', 'etc', 'only', 'put', 'above', 'during', 'when', 'your', 'beyond', 'more', 'may', 'there', 'our', 'almost', 'most', 'sincere', 'not', 'their', 'move', 'thereafter', 'were', 'seemed', 'are', 'seems', 'thereby', 'latterly', 'still', 'through', 'anywhere', 'either', 'yourself', 'its', 'mill', 'enough', 'whence', 'than', 'therein', 'seeming', 'besides', 'of', 'throughout', 'un', 'is', 'ltd', 'might', 'name', 'where', 'yourselves', 'both', 'along', 'forty', 'front', 'on', 'nobody', 'ours', 'twelve', 'thru', 'in', 'after', 'has', 'you', 'onto', 'have', 'will', 'should', 'see', 'before', 'alone', 'detail', 'which', 'full', 'to', 'co', 'be', 'empty', 'fifty', 'if', 'nor', 'anyone', 'own', 'hundred', 'amount', 'next', 'i', 'again', 'thus', 'beside', 'without', 'beforehand', 'back', 'can', 'under', 'mostly', 'third', 'fill', 'much', 'eg', 'inc', 'becomes', 'bottom', 'and', 'another', 'hence', 'sixty', 'fire', 'each', 'they', 'whither', 'over', 'once', 'it', 'thence', 'who', 'namely', 'an', 'somehow', 'sometimes', 'neither', 'because', 'became', 'his', 'those', 'sometime', 'wherein', 'done', 'many', 'whoever', 'nine', 'herein', 'few', 'for', 'hereupon', 'we', 'part', 'whole', 'down', 'found', 'any', 'de', 're', 'same', 'call', 'ie', 'anyhow', 'everything', 'fifteen', 'ourselves', 'wherever', 'others', 'first', 'within', 'already', 'towards', 'get', 'bill', 'five', 'none', 'mine', 'less', 'moreover', 'her', 'system', 'becoming', 'last', 'between', 'now', 'otherwise', 'never', 'a', 'whereafter', 'whereas', 'twenty'})\n"
     ]
    }
   ],
   "source": [
    "from sklearn.feature_extraction import stop_words\n",
    "print(stop_words.ENGLISH_STOP_WORDS)"
   ]
  },
  {
   "cell_type": "markdown",
   "metadata": {},
   "source": [
    "You should have seen a large list of words that looks like:\n",
    "\n",
    "```frozenset({'across', 'mine', 'cannot', ...})```\n",
    "\n",
    "`frozenset` is a type of Python object that is immutable. In this lab you can use it just like an array without conversion."
   ]
  },
  {
   "cell_type": "markdown",
   "metadata": {},
   "source": [
    "Next, test your function with supplying `stop_words.ENGLISH_STOP_WORDS` as the second parameter."
   ]
  },
  {
   "cell_type": "code",
   "execution_count": 4,
   "metadata": {},
   "outputs": [
    {
     "name": "stdout",
     "output_type": "stream",
     "text": [
      "{'bag_of_words': ['ironhack', 'cool', 'love', 'student'], 'term_freq': [[1, 1, 0, 0], [1, 0, 1, 0], [1, 0, 0, 1]]}\n"
     ]
    }
   ],
   "source": [
    "bow = get_bow_from_docs(docs, stop_words.ENGLISH_STOP_WORDS)\n",
    "\n",
    "print(bow)"
   ]
  },
  {
   "cell_type": "markdown",
   "metadata": {},
   "source": [
    "You should have seen:\n",
    "\n",
    "```{'bag_of_words': ['ironhack', 'cool', 'love', 'student'], 'term_freq': [[1, 1, 0, 0], [1, 0, 1, 0], [1, 0, 0, 1]]}```"
   ]
  },
  {
   "cell_type": "code",
   "execution_count": null,
   "metadata": {},
   "outputs": [],
   "source": []
  }
 ],
 "metadata": {
  "kernelspec": {
   "display_name": "Python 3",
   "language": "python",
   "name": "python3"
  },
  "language_info": {
   "codemirror_mode": {
    "name": "ipython",
    "version": 3
   },
   "file_extension": ".py",
   "mimetype": "text/x-python",
   "name": "python",
   "nbconvert_exporter": "python",
   "pygments_lexer": "ipython3",
   "version": "3.6.7"
  }
 },
 "nbformat": 4,
 "nbformat_minor": 2
}
